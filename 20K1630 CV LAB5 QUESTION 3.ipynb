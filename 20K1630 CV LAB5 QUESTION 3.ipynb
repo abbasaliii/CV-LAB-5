{
 "cells": [
  {
   "cell_type": "code",
   "execution_count": 2,
   "id": "b4557794",
   "metadata": {},
   "outputs": [],
   "source": [
    "import cv2\n",
    "import numpy as np\n",
    "\n",
    "cap = cv2.VideoCapture(0)\n",
    "\n",
    "block_size = 2\n",
    "ksize = 3\n",
    "k = 0.04\n",
    "\n",
    "while True:\n",
    "    ret, frame = cap.read()\n",
    "    \n",
    "    gray = cv2.cvtColor(frame, cv2.COLOR_BGR2GRAY)\n",
    "\n",
    "    dst = cv2.cornerHarris(gray, block_size, ksize, k)\n",
    "\n",
    "    threshold = 0.01 * dst.max()\n",
    "    corners = np.where(dst > threshold)\n",
    "\n",
    "    frame_with_corners = frame.copy()\n",
    "    for y, x in zip(*corners):\n",
    "        cv2.circle(frame_with_corners, (x, y), 5, (0, 0, 255), -1)\n",
    "\n",
    "    cv2.imshow('Corner Detection (Harris)', frame_with_corners)\n",
    "\n",
    "    if cv2.waitKey(1) & 0xFF == ord('q'):\n",
    "        break\n",
    "\n",
    "cap.release()\n",
    "cv2.destroyAllWindows()\n"
   ]
  },
  {
   "cell_type": "code",
   "execution_count": null,
   "id": "d567cd12",
   "metadata": {},
   "outputs": [],
   "source": []
  }
 ],
 "metadata": {
  "kernelspec": {
   "display_name": "Python 3 (ipykernel)",
   "language": "python",
   "name": "python3"
  },
  "language_info": {
   "codemirror_mode": {
    "name": "ipython",
    "version": 3
   },
   "file_extension": ".py",
   "mimetype": "text/x-python",
   "name": "python",
   "nbconvert_exporter": "python",
   "pygments_lexer": "ipython3",
   "version": "3.9.12"
  }
 },
 "nbformat": 4,
 "nbformat_minor": 5
}
